{
 "cells": [
  {
   "cell_type": "markdown",
   "metadata": {},
   "source": [
    "Install required module to run the project"
   ]
  },
  {
   "cell_type": "code",
   "execution_count": null,
   "metadata": {},
   "outputs": [],
   "source": [
    "import kivy\n",
    "from kivy.app import App\n",
    "from kivy.uix.label import Label\n",
    "from kivy.uix.popup import Popup\n",
    "from kivy.uix.gridlayout import GridLayout\n",
    "from kivy.uix.boxlayout import BoxLayout\n",
    "from kivy.uix.textinput import TextInput\n",
    "from kivy.uix.button import Button\n",
    "from kivy.core.window import Window\n",
    "import numpy as np\n",
    "import pandas as pd\n",
    "from sklearn.preprocessing import StandardScaler\n",
    "from sklearn.model_selection import train_test_split\n",
    "from sklearn import svm\n",
    "from sklearn.metrics import accuracy_score"
   ]
  },
  {
   "cell_type": "markdown",
   "metadata": {},
   "source": [
    "Choose the required Kivy Version"
   ]
  },
  {
   "cell_type": "code",
   "execution_count": null,
   "metadata": {},
   "outputs": [],
   "source": [
    "kivy.require(\"1.10.1\")"
   ]
  },
  {
   "cell_type": "markdown",
   "metadata": {},
   "source": [
    "Layout and Format of App:"
   ]
  },
  {
   "cell_type": "code",
   "execution_count": null,
   "metadata": {},
   "outputs": [],
   "source": [
    "class LoginUI(GridLayout):\n",
    "\tdef __init__(self,**kwargs):\n",
    "\t\tsuper().__init__(**kwargs)\n",
    "\t\tself.cols = 2\n",
    "\t\t\n",
    "\t\tself.add_widget(Label(text=\"Age:\"))\n",
    "\t\tself.age = TextInput(multiline=False,write_tab=False)\n",
    "\t\tself.age.focus=True\n",
    "\t\tself.add_widget(self.age)\n",
    "\n",
    "\t\tself.add_widget(Label(text=\"Anaemia\"))\n",
    "\t\tself.anaemia = TextInput(multiline=False,write_tab=False)\n",
    "\t\tself.anaemia.focus=True\n",
    "\t\tself.add_widget(self.anaemia)\n",
    "\n",
    "\t\tself.add_widget(Label(text=\"Creatinine\"))\n",
    "\t\tself.creatinine = TextInput(multiline=False,write_tab=False)\n",
    "\t\tself.creatinine.focus=True\n",
    "\t\tself.add_widget(self.creatinine)\n",
    "\t\t\n",
    "\t\tself.add_widget(Label(text=\"Sex\"))\n",
    "\t\tself.sex = TextInput(multiline=False,write_tab=False)\n",
    "\t\tself.sex.focus=True\n",
    "\t\tself.add_widget(self.sex)\n",
    "\n",
    "\t\tself.add_widget(Label(text=\"Ejection Fraction\"))\n",
    "\t\tself.EjectionFraction = TextInput(multiline=False,write_tab=False)\n",
    "\t\tself.EjectionFraction.focus=True\n",
    "\t\tself.add_widget(self.EjectionFraction)\n",
    "\n",
    "\t\tself.add_widget(Label(text=\"High Blood Pressure\"))\n",
    "\t\tself.HighBloodPressure = TextInput(multiline=False,write_tab=False)\n",
    "\t\tself.HighBloodPressure.focus=True\n",
    "\t\tself.add_widget(self.HighBloodPressure)\n",
    "\n",
    "\t\tself.add_widget(Label(text=\"Platelets\"))\n",
    "\t\tself.Plateles = TextInput(multiline=False,write_tab=False)\n",
    "\t\tself.Plateles.focus=True\n",
    "\t\tself.add_widget(self.Plateles)\n",
    "\n",
    "\t\tself.add_widget(Label(text=\"Serum Creatinine\"))\n",
    "\t\tself.SerumCreatinine = TextInput(multiline=False,write_tab=False)\n",
    "\t\tself.SerumCreatinine.focus=True\n",
    "\t\tself.add_widget(self.SerumCreatinine)\n",
    "\n",
    "\t\tself.add_widget(Label(text=\"Serum Sodium\"))\n",
    "\t\tself.SerumSodium = TextInput(multiline=False,write_tab=False)\n",
    "\t\tself.SerumSodium.focus=True\n",
    "\t\tself.add_widget(self.SerumSodium)\n",
    "\n",
    "\t\tself.add_widget(Label(text=\"Smoking\"))\n",
    "\t\tself.Smoking = TextInput(multiline=False,write_tab=False)\n",
    "\t\tself.Smoking.focus=True\n",
    "\t\tself.add_widget(self.Smoking)\n",
    "\n",
    "\t\tself.add_widget(Label(text=\"Smokes/day\"))\n",
    "\t\tself.Smokesperday = TextInput(multiline=False,write_tab=False)\n",
    "\t\tself.Smokesperday.focus=True\n",
    "\t\tself.add_widget(self.Smokesperday)\n",
    "\n",
    "\n",
    "\t\tself.connect = Button(text =\"Proceed\")\n",
    "\t\tself.connect.bind(on_press=self.connect_btn)\n",
    "\t\tself.add_widget(self.connect)\n",
    "\n",
    "\t\tWindow.bind(on_key_down=self.on_keyboard_down)\n",
    "\n",
    "\n",
    "\tdef on_keyboard_down(self, instance, keyboard, keycode, text, modifiers):\n",
    "\t\tif keycode == 36:\n",
    "\n",
    "\t\t\tself.connect_btn(instance)\n",
    "\n",
    "\n",
    "\n",
    "\tdef connect_btn(self,prediction):\n",
    "\t\tds = pd.read_csv('C:/Users/IRPT/Desktop/Lung Cancer Project/Diabetes Death Dataset.csv') \n",
    "\t\tX = ds.drop(['Diabetes'],axis=1)\n",
    "\t\tY = ds['Diabetes']\n",
    "\n",
    "\t\tsc = StandardScaler()\n",
    "\t\tsc.fit(X)\n",
    "\t\tstd_data = sc.transform(X)\n",
    "\t\tX = std_data\n",
    "\t\tY = ds['Diabetes']\n",
    "\n",
    "\t\tX_train, X_test, Y_train, Y_test = train_test_split(X,Y, test_size = 0.2, stratify=Y, random_state=2)\n",
    "\n",
    "\t\tclassifier = svm.SVC(kernel='linear')\n",
    "\t\tclassifier.fit(X_train, Y_train)\n",
    "\n",
    "\t\tX_train_prediction = classifier.predict(X_train)\n",
    "\t\ttraining_data_accuracy = accuracy_score(X_train_prediction, Y_train)\n",
    "\t\tX_test_prediction = classifier.predict(X_test)\n",
    "\t\ttest_data_accuracy = accuracy_score(X_test_prediction, Y_test)\n",
    "\t\tinput_data=tuple([self.age.text,self.anaemia.text,self.creatinine.text,self.sex.text,self.EjectionFraction.text,self.HighBloodPressure.text,self.Plateles.text,self.SerumCreatinine.text,self.SerumSodium.text,self.Smoking.text,self.Smokesperday.text])\n",
    "\n",
    "\t\tinput_data_as_numpy_array = np.asarray(input_data)\n",
    "\t\tinput_data_reshaped = input_data_as_numpy_array.reshape(1,-1)\n",
    "\t\tstd_data = sc.transform(input_data_reshaped)\n",
    "\t\tprediction = classifier.predict(std_data)\t\n",
    "\n",
    "\t\tif (prediction[0]==0):\n",
    "\t\t\tself.createPopUp(\"You do not have diabetes\")\n",
    "\t\telse:\n",
    "\t\t\tself.createPopUp(\"You have Diabetes\")\n",
    "\t\n",
    "\tdef createPopUp(self,title):\n",
    "\t\tbox = BoxLayout(orientation = 'vertical', padding = (0.1))\n",
    "\t\tbtn1 = Button(text = \"Ok\")\n",
    "\t\tbox.add_widget(btn1)\n",
    "\n",
    "\n",
    "\t\tpopup = Popup(title=title, title_size= (30),title_align = 'center', content = box,size_hint=(None, None), size=(430, 200), auto_dismiss = True)\n",
    "\n",
    "\t\tbtn1.bind(on_press = popup.dismiss)\n",
    "\t\tpopup.open()"
   ]
  },
  {
   "cell_type": "markdown",
   "metadata": {},
   "source": [
    "Class of Result of App for the user input"
   ]
  },
  {
   "cell_type": "code",
   "execution_count": null,
   "metadata": {},
   "outputs": [],
   "source": [
    "class Proceed(App):\n",
    "\tdef build(self):\n",
    "\t\tself.title = 'DiabetesApp'\n",
    "\n",
    "\t\treturn LoginUI()"
   ]
  },
  {
   "cell_type": "markdown",
   "metadata": {},
   "source": [
    "Calls the two class:"
   ]
  },
  {
   "cell_type": "code",
   "execution_count": null,
   "metadata": {},
   "outputs": [],
   "source": [
    "if __name__ == \"__main__\":\n",
    "\tProceed().run()"
   ]
  }
 ],
 "metadata": {
  "kernelspec": {
   "display_name": "Python 3.10.5 64-bit",
   "language": "python",
   "name": "python3"
  },
  "language_info": {
   "name": "python",
   "version": "3.10.5"
  },
  "orig_nbformat": 4,
  "vscode": {
   "interpreter": {
    "hash": "478a49a2ec67274e2ebc332464b9549291c1be50ffed335b9f1c2cd60e3ac71c"
   }
  }
 },
 "nbformat": 4,
 "nbformat_minor": 2
}
