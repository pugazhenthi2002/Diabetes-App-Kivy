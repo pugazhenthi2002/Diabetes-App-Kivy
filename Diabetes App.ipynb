{
 "cells": [
  {
   "cell_type": "markdown",
   "metadata": {},
   "source": [
    "Install required module to run the project->Lister below are Library Files"
   ]
  },
  {
   "cell_type": "code",
   "execution_count": null,
   "metadata": {},
   "outputs": [],
   "source": [
    "import pandas as pd\n",
    "from kivymd.app import MDApp\n",
    "from kivy.lang.builder import Builder\n",
    "from kivy.uix.screenmanager import Screen, ScreenManager\n",
    "from kivy.core.window import Window\n",
    "from pandas import read_csv\n",
    "from sklearn.model_selection import train_test_split\n",
    "from sklearn.linear_model import LogisticRegression\n",
    "from pandas import set_option,DataFrame"
   ]
  },
  {
   "cell_type": "markdown",
   "metadata": {},
   "source": [
    "We have to choose the correct dataset path and have to seperate into two parts.\n",
    "X -> Data Properties\n",
    "Y -> Diabetes Result"
   ]
  },
  {
   "cell_type": "code",
   "execution_count": null,
   "metadata": {},
   "outputs": [],
   "source": [
    "filename = r'Diabetes Death Dataset.csv'\n",
    "names = ['age','anaemia','creatinine_phosphokinase','gender','ejection_fraction','high_blood_pressure','platelets','serum_creatinine','serum_sodium','smoking','smokesperday','diabetes']\n",
    "dataframe = read_csv(filename, names=names, delimiter=';')\n",
    "array = dataframe.values\n",
    "X = array[:,0:11]\n",
    "Y = array[:,11]"
   ]
  },
  {
   "cell_type": "markdown",
   "metadata": {},
   "source": [
    "We have to set the train and test datset to be prepared for new user result.\n",
    "Test Data->33%\n",
    "Train Data->67%"
   ]
  },
  {
   "cell_type": "code",
   "execution_count": null,
   "metadata": {},
   "outputs": [],
   "source": [
    "test_size = 0.33\n",
    "seed = 7"
   ]
  },
  {
   "cell_type": "markdown",
   "metadata": {},
   "source": [
    "To check the accuracy for future data properties of Patient"
   ]
  },
  {
   "cell_type": "code",
   "execution_count": null,
   "metadata": {},
   "outputs": [],
   "source": [
    "X_train, X_test, Y_train, Y_test = train_test_split(X, Y, test_size=test_size,random_state=seed)\n",
    "model = LogisticRegression()\n",
    "model.fit(X_train, Y_train)\n",
    "result = model.score(X_test, Y_test)"
   ]
  },
  {
   "cell_type": "markdown",
   "metadata": {},
   "source": [
    "Data Properties from User"
   ]
  },
  {
   "cell_type": "code",
   "execution_count": null,
   "metadata": {},
   "outputs": [],
   "source": [
    "def user_report(age,anaemia,creatinine_phosphokinase,gender,ejection_fraction,high_blood_pressure,platelets,serum_creatinine,serum_sodium,smoking,smokesperday):\n",
    "     age_data = float(age)\n",
    "     anaemia_data = float(anaemia)\n",
    "     creatinine_phosphokinase_data = float(creatinine_phosphokinase)\n",
    "     gender_data = float(gender)\n",
    "     ejection_fraction_data = float(ejection_fraction)\n",
    "     high_blood_pressure_data = float(high_blood_pressure)\n",
    "     platelets_data = float(platelets)\n",
    "     serum_creatinine_data = float(serum_creatinine)\n",
    "     serum_sodium_data = float(serum_sodium)\n",
    "     smoking_data = float(smoking)\n",
    "     smokesperday_data = float(smokesperday)\n",
    "  \n",
    "     user_report_data = {\n",
    "        'age_data':age_data,\n",
    "        'anaemia_data':anaemia_data,\n",
    "        'creatinine_phosphokinase_data':creatinine_phosphokinase_data,\n",
    "    \t'gender_data':gender_data,\n",
    "    \t'ejection_fraction_data':ejection_fraction_data,\n",
    "    \t'high_blood_pressure_data':high_blood_pressure_data,\n",
    "    \t'platelets_data':platelets_data,\n",
    "    \t'serum_creatinine_data':serum_creatinine_data,\n",
    "        'serum_sodium_data':serum_sodium_data,\n",
    "        'smoking_data':smoking_data,\n",
    "        'smokesperday_data':smokesperday_data\n",
    "\t }\n",
    "     report_data = pd.DataFrame(user_report_data, index=[0])\n",
    "     return report_data"
   ]
  },
  {
   "cell_type": "markdown",
   "metadata": {},
   "source": [
    "Kivy Widget Layout and Design for App"
   ]
  },
  {
   "cell_type": "code",
   "execution_count": null,
   "metadata": {},
   "outputs": [],
   "source": [
    "class Main(Screen):\n",
    "    pass\n",
    "\n",
    "sm = ScreenManager()\n",
    "sm.add_widget(Main(name='main'))"
   ]
  },
  {
   "cell_type": "markdown",
   "metadata": {},
   "source": [
    "User Input Data that passes to Kivy Widget and shows the required result for given properties"
   ]
  },
  {
   "cell_type": "code",
   "execution_count": null,
   "metadata": {},
   "outputs": [],
   "source": [
    "class MainApp(MDApp):\n",
    "    def build(self):\n",
    "        self.help_string = Builder.load_file('main.kv')\n",
    "        return self.help_string\n",
    "\n",
    "    def predict(self):\n",
    "        input_1 = self.help_string.get_screen('main').ids.input_1.text\n",
    "        input_2 = self.help_string.get_screen('main').ids.input_2.text\n",
    "        input_3 = self.help_string.get_screen('main').ids.input_3.text\n",
    "        input_4 = self.help_string.get_screen('main').ids.input_4.text\n",
    "        input_5 = self.help_string.get_screen('main').ids.input_5.text\n",
    "        input_6 = self.help_string.get_screen('main').ids.input_6.text\n",
    "        input_7 = self.help_string.get_screen('main').ids.input_7.text\n",
    "        input_8 = self.help_string.get_screen('main').ids.input_8.text\n",
    "        input_9 = self.help_string.get_screen('main').ids.input_9.text\n",
    "        input_10 = self.help_string.get_screen('main').ids.input_10.text\n",
    "        input_11 = self.help_string.get_screen('main').ids.input_11.text\n",
    "        \n",
    "        user_result_input = user_report(input_1,input_2,input_3,input_4,input_5,input_6,input_7,input_8,input_9,input_10,input_11)\n",
    "        \n",
    "        user_result_model = model.predict(user_result_input)\n",
    "        print(result)\n",
    "        \n",
    "        output=''\n",
    "        self.help_string.get_screen('main').ids.output_text_not.text = ''\n",
    "        self.help_string.get_screen('main').ids.output_text_sick.text = ''\n",
    "        \n",
    "        if user_result_model[0]==0:\n",
    "            output = 'You are not Diabetic'\n",
    "            self.help_string.get_screen('main').ids.output_text_not.text = output\n",
    "            \n",
    "        else:\n",
    "            output = 'You are Diabetic'\n",
    "            self.help_string.get_screen('main').ids.output_text_sick.text = output"
   ]
  },
  {
   "cell_type": "markdown",
   "metadata": {},
   "source": [
    "Calls the CLass"
   ]
  },
  {
   "cell_type": "code",
   "execution_count": null,
   "metadata": {},
   "outputs": [],
   "source": [
    "MainApp().run()"
   ]
  }
 ],
 "metadata": {
  "kernelspec": {
   "display_name": "Python 3.10.5 64-bit",
   "language": "python",
   "name": "python3"
  },
  "language_info": {
   "name": "python",
   "version": "3.10.5"
  },
  "orig_nbformat": 4,
  "vscode": {
   "interpreter": {
    "hash": "478a49a2ec67274e2ebc332464b9549291c1be50ffed335b9f1c2cd60e3ac71c"
   }
  }
 },
 "nbformat": 4,
 "nbformat_minor": 2
}
